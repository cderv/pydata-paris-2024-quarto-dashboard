{
 "cells": [
  {
   "cell_type": "raw",
   "metadata": {
    "vscode": {
     "languageId": "raw"
    }
   },
   "source": [
    "---\n",
    "title: \"Olympic Games\"\n",
    "format: \n",
    "  dashboard:\n",
    "    nav-buttons: [github]\n",
    "    github: https://github.com/posit-conf-2024/olympicdash\n",
    "logo: images/olympics-logo.svg\n",
    "logo-alt: \"Olympics logo with multicolored circles.\"\n",
    "---"
   ]
  },
  {
   "cell_type": "markdown",
   "metadata": {},
   "source": [
    "# 🌞 Summer Olympics"
   ]
  },
  {
   "cell_type": "markdown",
   "metadata": {},
   "source": [
    "# ❄️ Winter Olympics"
   ]
  }
 ],
 "metadata": {
  "language_info": {
   "name": "python"
  }
 },
 "nbformat": 4,
 "nbformat_minor": 2
}
